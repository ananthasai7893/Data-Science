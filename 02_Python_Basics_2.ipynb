{
  "nbformat": 4,
  "nbformat_minor": 0,
  "metadata": {
    "kernelspec": {
      "display_name": "Python 3",
      "language": "python",
      "name": "python3"
    },
    "language_info": {
      "codemirror_mode": {
        "name": "ipython",
        "version": 3
      },
      "file_extension": ".py",
      "mimetype": "text/x-python",
      "name": "python",
      "nbconvert_exporter": "python",
      "pygments_lexer": "ipython3",
      "version": "3.7.3"
    },
    "colab": {
      "name": "02 Python Basics-2.ipynb",
      "provenance": [],
      "include_colab_link": true
    }
  },
  "cells": [
    {
      "cell_type": "markdown",
      "metadata": {
        "id": "view-in-github",
        "colab_type": "text"
      },
      "source": [
        "<a href=\"https://colab.research.google.com/github/ananthasai7893/Data-Science/blob/master/02_Python_Basics_2.ipynb\" target=\"_parent\"><img src=\"https://colab.research.google.com/assets/colab-badge.svg\" alt=\"Open In Colab\"/></a>"
      ]
    },
    {
      "cell_type": "markdown",
      "metadata": {
        "id": "S2IyrryumTH9",
        "colab_type": "raw"
      },
      "source": [
        "Basics of Python Programming - 2"
      ]
    },
    {
      "cell_type": "markdown",
      "metadata": {
        "id": "I6s7w2pmmTIB",
        "colab_type": "text"
      },
      "source": [
        "* If\n",
        "* Elif\n",
        "* Else\n",
        "* While loop\n",
        "* For loop\n",
        "* Nested Loop\n",
        "* Break\n",
        "* Continue\n",
        "* Functions\n",
        "* Exceptions"
      ]
    },
    {
      "cell_type": "markdown",
      "metadata": {
        "id": "ufE9puZxmTIE",
        "colab_type": "text"
      },
      "source": [
        "# Conditional Statements"
      ]
    },
    {
      "cell_type": "markdown",
      "metadata": {
        "id": "0cF82eyRmTIG",
        "colab_type": "text"
      },
      "source": [
        "# IF "
      ]
    },
    {
      "cell_type": "code",
      "metadata": {
        "id": "h3vSW7CcmTIJ",
        "colab_type": "code",
        "colab": {},
        "outputId": "577451b2-40e9-41d2-bcde-3c4fdbb2ecc3"
      },
      "source": [
        "#IF staements\n",
        "\n",
        "#An \"if statement\" is written by using the if keyword.\n",
        "\n",
        "a = 33\n",
        "b = 200\n",
        "if b > a:\n",
        "  print(\"b is greater than a\")"
      ],
      "execution_count": null,
      "outputs": [
        {
          "output_type": "stream",
          "text": [
            "b is greater than a\n"
          ],
          "name": "stdout"
        }
      ]
    },
    {
      "cell_type": "markdown",
      "metadata": {
        "id": "s8610asTmTIk",
        "colab_type": "text"
      },
      "source": [
        "# ELIF"
      ]
    },
    {
      "cell_type": "code",
      "metadata": {
        "id": "679cb8aKmTIm",
        "colab_type": "code",
        "colab": {},
        "outputId": "791b4d6a-d310-4d01-fb47-065dc1c589d4"
      },
      "source": [
        "# The elif keyword is pythons way of saying \"if the previous conditions were not true, then try this condition\".\n",
        "\n",
        "a = 33\n",
        "b = 33\n",
        "if b > a:\n",
        "  print(\"b is greater than a\")\n",
        "elif a == b:\n",
        "  print(\"a and b are equal\")"
      ],
      "execution_count": null,
      "outputs": [
        {
          "output_type": "stream",
          "text": [
            "a and b are equal\n"
          ],
          "name": "stdout"
        }
      ]
    },
    {
      "cell_type": "markdown",
      "metadata": {
        "id": "zPj-yQqtmTIx",
        "colab_type": "text"
      },
      "source": [
        "# ELSE"
      ]
    },
    {
      "cell_type": "code",
      "metadata": {
        "id": "cMGQ38g0mTIy",
        "colab_type": "code",
        "colab": {},
        "outputId": "d74b2fa2-b034-44a4-fd84-0a99f646721d"
      },
      "source": [
        "#The else keyword catches anything which isn't caught by the preceding conditions.\n",
        "\n",
        "\n",
        "a = 200\n",
        "b = 33\n",
        "if b > a:\n",
        "  print(\"b is greater than a\")\n",
        "elif a == b:\n",
        "  print(\"a and b are equal\")\n",
        "else:\n",
        "  print(\"a is greater than b\")"
      ],
      "execution_count": null,
      "outputs": [
        {
          "output_type": "stream",
          "text": [
            "a is greater than b\n"
          ],
          "name": "stdout"
        }
      ]
    },
    {
      "cell_type": "markdown",
      "metadata": {
        "id": "7sF1FpdsmTI-",
        "colab_type": "text"
      },
      "source": [
        "# LOOPS"
      ]
    },
    {
      "cell_type": "markdown",
      "metadata": {
        "id": "TzDLxT1VmTJA",
        "colab_type": "text"
      },
      "source": [
        "**Python has two primitive loop commands:**\n",
        "\n",
        "* while loops\n",
        "* for loops"
      ]
    },
    {
      "cell_type": "markdown",
      "metadata": {
        "id": "5wkDkXkYmTJC",
        "colab_type": "text"
      },
      "source": [
        "* **With the while loop we can execute a set of statements as long as a condition is true.**"
      ]
    },
    {
      "cell_type": "code",
      "metadata": {
        "id": "5VmyuRZvmTJE",
        "colab_type": "code",
        "colab": {},
        "outputId": "9ccf0bf2-806c-4d3f-d67d-bc5b734cf67b"
      },
      "source": [
        "i = 1\n",
        "while i < 6:\n",
        "  print(i)\n",
        "  i += 1"
      ],
      "execution_count": null,
      "outputs": [
        {
          "output_type": "stream",
          "text": [
            "1\n",
            "2\n",
            "3\n",
            "4\n",
            "5\n"
          ],
          "name": "stdout"
        }
      ]
    },
    {
      "cell_type": "markdown",
      "metadata": {
        "id": "aO3BYqZzmTJO",
        "colab_type": "text"
      },
      "source": [
        "* **break** statement can stop the loop even if the while condition is true"
      ]
    },
    {
      "cell_type": "code",
      "metadata": {
        "id": "EVwQydAcmTJP",
        "colab_type": "code",
        "colab": {},
        "outputId": "fb8dd25f-b6bb-4f4b-b841-1490131de6e7"
      },
      "source": [
        "# With the break statement we can stop the loop even if the while condition is true:\n",
        "\n",
        "i = 1\n",
        "while i < 6:\n",
        "  print(i)\n",
        "  if i == 3:\n",
        "    break\n",
        "  i += 1"
      ],
      "execution_count": null,
      "outputs": [
        {
          "output_type": "stream",
          "text": [
            "1\n",
            "2\n",
            "3\n"
          ],
          "name": "stdout"
        }
      ]
    },
    {
      "cell_type": "markdown",
      "metadata": {
        "id": "5E2iVy8kmTJb",
        "colab_type": "text"
      },
      "source": [
        "* **continue** statement can stop the current iteration, and continue with the next"
      ]
    },
    {
      "cell_type": "code",
      "metadata": {
        "id": "FfK1UXj5mTJd",
        "colab_type": "code",
        "colab": {},
        "outputId": "90681450-6664-42fc-bbb3-204a16aab03e"
      },
      "source": [
        "# With the continue statement we can stop the current iteration, and continue with the next:\n",
        "\n",
        "i = 0\n",
        "while i < 6:\n",
        "  i += 1 \n",
        "  if i == 3:\n",
        "    continue\n",
        "  print(i)"
      ],
      "execution_count": null,
      "outputs": [
        {
          "output_type": "stream",
          "text": [
            "1\n",
            "2\n",
            "4\n",
            "5\n",
            "6\n"
          ],
          "name": "stdout"
        }
      ]
    },
    {
      "cell_type": "markdown",
      "metadata": {
        "id": "Q3TNv9PNmTJo",
        "colab_type": "text"
      },
      "source": [
        "* **A for loop is used for iterating over a sequence (that is either a list, a tuple, a dictionary, a set, or a string).**"
      ]
    },
    {
      "cell_type": "code",
      "metadata": {
        "id": "0dhgP6ZTmTJq",
        "colab_type": "code",
        "colab": {},
        "outputId": "081e1be2-5f78-4595-d404-324a6c9449ef"
      },
      "source": [
        "#With the for loop we can execute a set of statements, once for each item in a list, tuple, set etc.\n",
        "\n",
        "\n",
        "fruits = [\"apple\", \"banana\", \"cherry\"]\n",
        "for x in fruits:\n",
        "  print(x)"
      ],
      "execution_count": null,
      "outputs": [
        {
          "output_type": "stream",
          "text": [
            "apple\n",
            "banana\n",
            "cherry\n"
          ],
          "name": "stdout"
        }
      ]
    },
    {
      "cell_type": "code",
      "metadata": {
        "id": "sFg0lWdhmTJz",
        "colab_type": "code",
        "colab": {},
        "outputId": "71a3aade-a632-4a39-84f2-a29efe7314f1"
      },
      "source": [
        "# Even strings are iterable objects, they contain a sequence of characters:\n",
        "\n",
        "for x in \"banana\":\n",
        "  print(x)"
      ],
      "execution_count": null,
      "outputs": [
        {
          "output_type": "stream",
          "text": [
            "b\n",
            "a\n",
            "n\n",
            "a\n",
            "n\n",
            "a\n"
          ],
          "name": "stdout"
        }
      ]
    },
    {
      "cell_type": "code",
      "metadata": {
        "id": "J6hVikqjmTJ8",
        "colab_type": "code",
        "colab": {},
        "outputId": "17bcf8f7-eead-4fb6-9050-fc2f78834cfb"
      },
      "source": [
        "# With the break statement we can stop the loop before it has looped through all the items:\n",
        "\n",
        "fruits = [\"apple\", \"banana\", \"cherry\"]\n",
        "for x in fruits:\n",
        "  print(x) \n",
        "  if x == \"banana\":\n",
        "    break"
      ],
      "execution_count": null,
      "outputs": [
        {
          "output_type": "stream",
          "text": [
            "apple\n",
            "banana\n"
          ],
          "name": "stdout"
        }
      ]
    },
    {
      "cell_type": "code",
      "metadata": {
        "id": "Zai9zYK1mTKI",
        "colab_type": "code",
        "colab": {},
        "outputId": "f6e891f8-aea5-49b7-ea8a-dc3ac2d55bfe"
      },
      "source": [
        "fruits = [\"apple\", \"banana\", \"cherry\"]\n",
        "for x in fruits:\n",
        "  if x == \"banana\":\n",
        "    break\n",
        "  print(x)"
      ],
      "execution_count": null,
      "outputs": [
        {
          "output_type": "stream",
          "text": [
            "apple\n"
          ],
          "name": "stdout"
        }
      ]
    },
    {
      "cell_type": "code",
      "metadata": {
        "id": "kfzQHEgimTKT",
        "colab_type": "code",
        "colab": {},
        "outputId": "1dc55810-75aa-46f8-d789-fd32f4bbadc6"
      },
      "source": [
        "# With the continue statement we can stop the current iteration of the loop, and continue with the next:\n",
        "\n",
        "fruits = [\"apple\", \"banana\", \"cherry\"]\n",
        "for x in fruits:\n",
        "  if x == \"banana\":\n",
        "    continue\n",
        "  print(x)"
      ],
      "execution_count": null,
      "outputs": [
        {
          "output_type": "stream",
          "text": [
            "apple\n",
            "cherry\n"
          ],
          "name": "stdout"
        }
      ]
    },
    {
      "cell_type": "markdown",
      "metadata": {
        "id": "3Q01_VopmTKb",
        "colab_type": "text"
      },
      "source": [
        "* **A nested loop is a loop inside a loop.**\n",
        "\n",
        "* The \"inner loop\" will be executed one time for each iteration of the \"outer loop\":"
      ]
    },
    {
      "cell_type": "code",
      "metadata": {
        "id": "ejyjzaEBmTKd",
        "colab_type": "code",
        "colab": {},
        "outputId": "0be9881e-7ade-4047-8965-aa7a75727c92"
      },
      "source": [
        "adj = [\"red\", \"big\", \"tasty\"]\n",
        "fruits = [\"apple\", \"banana\", \"cherry\"]\n",
        "\n",
        "for x in adj:\n",
        "  for y in fruits:\n",
        "    print(x, y)"
      ],
      "execution_count": null,
      "outputs": [
        {
          "output_type": "stream",
          "text": [
            "red apple\n",
            "red banana\n",
            "red cherry\n",
            "big apple\n",
            "big banana\n",
            "big cherry\n",
            "tasty apple\n",
            "tasty banana\n",
            "tasty cherry\n"
          ],
          "name": "stdout"
        }
      ]
    },
    {
      "cell_type": "markdown",
      "metadata": {
        "id": "_PZu1kyFmTKm",
        "colab_type": "text"
      },
      "source": [
        "# Functions"
      ]
    },
    {
      "cell_type": "markdown",
      "metadata": {
        "id": "eRbF5aMimTKn",
        "colab_type": "text"
      },
      "source": [
        "* **A function is a block of code which only runs when it is called.**\n",
        "\n",
        "\n",
        "* You can pass data, known as parameters, into a function.\n",
        "* A function can return data as a result."
      ]
    },
    {
      "cell_type": "code",
      "metadata": {
        "id": "dXuFg_kDmTKq",
        "colab_type": "code",
        "colab": {}
      },
      "source": [
        "# In Python a function is defined using the def keyword:\n",
        "\n",
        "def my_function():\n",
        "  print(\"Hello from a function\")"
      ],
      "execution_count": null,
      "outputs": []
    },
    {
      "cell_type": "code",
      "metadata": {
        "id": "7mOK2A-omTK1",
        "colab_type": "code",
        "colab": {},
        "outputId": "53181b8f-e0bb-405f-b322-67370b8888c3"
      },
      "source": [
        "# To call a function, use the function name followed by parenthesis:\n",
        "\n",
        "my_function()"
      ],
      "execution_count": null,
      "outputs": [
        {
          "output_type": "stream",
          "text": [
            "Hello from a function\n"
          ],
          "name": "stdout"
        }
      ]
    },
    {
      "cell_type": "markdown",
      "metadata": {
        "id": "iM7f75J_mTK9",
        "colab_type": "text"
      },
      "source": [
        "* Information can be passed to functions as parameter.\n",
        "\n",
        "* Parameters are specified after the function name, inside the parentheses. You can add as many parameters as you want, just separate them with a comma.\n",
        "\n"
      ]
    },
    {
      "cell_type": "code",
      "metadata": {
        "id": "1MOvbN3FmTK_",
        "colab_type": "code",
        "colab": {},
        "outputId": "d657347b-0f78-4b4c-d618-ed0426fa2a6b"
      },
      "source": [
        "# When the function is called, we pass along a first name, which is used inside the function to print the full name\n",
        "\n",
        "def my_function(fname):\n",
        "  print(fname + \" Address\")\n",
        "\n",
        "my_function(\"Email\")\n",
        "my_function(\"Office\")\n",
        "my_function(\"House\")"
      ],
      "execution_count": null,
      "outputs": [
        {
          "output_type": "stream",
          "text": [
            "Email Address\n",
            "Office Address\n",
            "House Address\n"
          ],
          "name": "stdout"
        }
      ]
    },
    {
      "cell_type": "code",
      "metadata": {
        "id": "lpccHvCWmTLU",
        "colab_type": "code",
        "colab": {},
        "outputId": "8ed9715e-adfe-4215-8b33-e42d62d75cfc"
      },
      "source": [
        "# If we call the function without parameter, it uses the default value:\n",
        "\n",
        "def my_function(country = \"Norway\"):\n",
        "  print(\"I am from \" + country)\n",
        "\n",
        "my_function(\"Sweden\")\n",
        "my_function(\"India\")\n",
        "my_function()\n",
        "my_function(\"Brazil\")"
      ],
      "execution_count": null,
      "outputs": [
        {
          "output_type": "stream",
          "text": [
            "I am from Sweden\n",
            "I am from India\n",
            "I am from Norway\n",
            "I am from Brazil\n"
          ],
          "name": "stdout"
        }
      ]
    },
    {
      "cell_type": "code",
      "metadata": {
        "id": "oFRjtcaymTLd",
        "colab_type": "code",
        "colab": {},
        "outputId": "82ed2254-934e-40ec-fcab-8958f8066d70"
      },
      "source": [
        "\"\"\"You can send any data types of parameter to a function (string, number, list, dictionary etc.), \n",
        "and it will be treated as the same data type inside the function.\"\"\"\n",
        "\n",
        "\n",
        "def my_function(food):\n",
        "  for x in food:\n",
        "    print(x)\n",
        "\n",
        "fruits = [\"apple\", \"banana\", \"cherry\"]\n",
        "\n",
        "my_function(fruits)"
      ],
      "execution_count": null,
      "outputs": [
        {
          "output_type": "stream",
          "text": [
            "apple\n",
            "banana\n",
            "cherry\n"
          ],
          "name": "stdout"
        }
      ]
    },
    {
      "cell_type": "code",
      "metadata": {
        "id": "cJk0qJpNmTLp",
        "colab_type": "code",
        "colab": {},
        "outputId": "035d780e-18ca-45a1-81f4-2e83d85b5f57"
      },
      "source": [
        "# To let a function return a value, use the return statement:\n",
        "\n",
        "def my_function(x):\n",
        "  return 3 * x\n",
        "\n",
        "print(my_function(3))\n",
        "print(my_function(5))\n",
        "print(my_function(9))"
      ],
      "execution_count": null,
      "outputs": [
        {
          "output_type": "stream",
          "text": [
            "9\n",
            "15\n",
            "27\n"
          ],
          "name": "stdout"
        }
      ]
    },
    {
      "cell_type": "markdown",
      "metadata": {
        "id": "7-vYTuNVmTLz",
        "colab_type": "text"
      },
      "source": [
        "# Exception Handling"
      ]
    },
    {
      "cell_type": "markdown",
      "metadata": {
        "id": "GdXmrdBhmTL0",
        "colab_type": "text"
      },
      "source": [
        "* **The try block lets you test a block of code for errors.**\n",
        "\n",
        "\n",
        "* **The except block lets you handle the error.**\n",
        "\n",
        "\n",
        "* **The finally block lets you execute code, regardless of the result of the try- and except blocks.**"
      ]
    },
    {
      "cell_type": "code",
      "metadata": {
        "id": "Pcjw3f1SmTL2",
        "colab_type": "code",
        "colab": {},
        "outputId": "14c4675d-191f-4486-d6f0-cbc93768d268"
      },
      "source": [
        "# The try block will generate an exception, because z is not defined:\n",
        "\n",
        "try:\n",
        "  print(z)\n",
        "except:\n",
        "  print(\"An exception occurred\")\n",
        "\n",
        "# Since the try block raises an error, the except block will be executed.\n",
        "\n",
        "# Without the try block, the program will crash and raise an error:"
      ],
      "execution_count": null,
      "outputs": [
        {
          "output_type": "stream",
          "text": [
            "An exception occurred\n"
          ],
          "name": "stdout"
        }
      ]
    },
    {
      "cell_type": "code",
      "metadata": {
        "id": "LOdEPgbymTL9",
        "colab_type": "code",
        "colab": {},
        "outputId": "4641523a-b1c2-4aa9-aa4a-d39dd4232356"
      },
      "source": [
        "#You can use the else keyword to define a block of code to be executed if no errors were raised:\n",
        "\n",
        "# the try block does not generate any error:\n",
        "\n",
        "try:\n",
        "  print(\"Hello\")\n",
        "except:\n",
        "  print(\"Something went wrong\")\n",
        "else:\n",
        "  print(\"Nothing went wrong\")"
      ],
      "execution_count": null,
      "outputs": [
        {
          "output_type": "stream",
          "text": [
            "Hello\n",
            "Nothing went wrong\n"
          ],
          "name": "stdout"
        }
      ]
    },
    {
      "cell_type": "code",
      "metadata": {
        "id": "6dWpTphLmTMF",
        "colab_type": "code",
        "colab": {},
        "outputId": "e6c2f7a5-137d-47ea-8e3e-0f3d82988186"
      },
      "source": [
        "try:\n",
        "  print(z)\n",
        "except:\n",
        "  print(\"Something went wrong\")\n",
        "else:\n",
        "  print(\"Nothing went wrong\")"
      ],
      "execution_count": null,
      "outputs": [
        {
          "output_type": "stream",
          "text": [
            "Something went wrong\n"
          ],
          "name": "stdout"
        }
      ]
    },
    {
      "cell_type": "code",
      "metadata": {
        "id": "Vz1n64CjmTMO",
        "colab_type": "code",
        "colab": {},
        "outputId": "a8d83a5b-93ff-44c2-96bc-65a66938ebbe"
      },
      "source": [
        "# The finally block, if specified, will be executed regardless if the try block raises an error or not.\n",
        "\n",
        "try:\n",
        "  print(z)\n",
        "except:\n",
        "  print(\"Something went wrong\")\n",
        "finally:\n",
        "  print(\"The 'try except' is finished\")"
      ],
      "execution_count": null,
      "outputs": [
        {
          "output_type": "stream",
          "text": [
            "Something went wrong\n",
            "The 'try except' is finished\n"
          ],
          "name": "stdout"
        }
      ]
    },
    {
      "cell_type": "code",
      "metadata": {
        "id": "YyYgQznVmTMa",
        "colab_type": "code",
        "colab": {},
        "outputId": "cb8ae3c0-55b1-40c1-817e-c418bc6a8bf2"
      },
      "source": [
        "try:\n",
        "  print(\"Hello\")\n",
        "except:\n",
        "  print(\"Something went wrong\")\n",
        "finally:\n",
        "  print(\"The 'try except' is finished\")"
      ],
      "execution_count": null,
      "outputs": [
        {
          "output_type": "stream",
          "text": [
            "Hello\n",
            "The 'try except' is finished\n"
          ],
          "name": "stdout"
        }
      ]
    },
    {
      "cell_type": "code",
      "metadata": {
        "id": "rPpURPGpmTMk",
        "colab_type": "code",
        "colab": {}
      },
      "source": [
        ""
      ],
      "execution_count": null,
      "outputs": []
    }
  ]
}