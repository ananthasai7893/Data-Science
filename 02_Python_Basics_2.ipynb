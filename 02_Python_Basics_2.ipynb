{
  "nbformat": 4,
  "nbformat_minor": 0,
  "metadata": {
    "kernelspec": {
      "display_name": "Python 3",
      "language": "python",
      "name": "python3"
    },
    "language_info": {
      "codemirror_mode": {
        "name": "ipython",
        "version": 3
      },
      "file_extension": ".py",
      "mimetype": "text/x-python",
      "name": "python",
      "nbconvert_exporter": "python",
      "pygments_lexer": "ipython3",
      "version": "3.7.3"
    },
    "colab": {
      "name": "Copy of 02 Python Basics-2.ipynb",
      "provenance": [],
      "include_colab_link": true
    }
  },
  "cells": [
    {
      "cell_type": "markdown",
      "metadata": {
        "id": "view-in-github",
        "colab_type": "text"
      },
      "source": [
        "<a href=\"https://colab.research.google.com/github/ananthasai7893/Data-Science/blob/master/Copy_of_02_Python_Basics_2.ipynb\" target=\"_parent\"><img src=\"https://colab.research.google.com/assets/colab-badge.svg\" alt=\"Open In Colab\"/></a>"
      ]
    },
    {
      "cell_type": "markdown",
      "metadata": {
        "id": "JdEKI1Q8hylJ",
        "colab_type": "raw"
      },
      "source": [
        "Basics of Python Programming - 2"
      ]
    },
    {
      "cell_type": "markdown",
      "metadata": {
        "id": "GRvgX-0ohylM",
        "colab_type": "text"
      },
      "source": [
        "* If\n",
        "* Elif\n",
        "* Else\n",
        "* While loop\n",
        "* For loop\n",
        "* Nested Loop\n",
        "* Break\n",
        "* Continue\n",
        "* Functions\n",
        "* Exceptions"
      ]
    },
    {
      "cell_type": "markdown",
      "metadata": {
        "id": "EQJl7aV5hylP",
        "colab_type": "text"
      },
      "source": [
        "# Conditional Statements"
      ]
    },
    {
      "cell_type": "markdown",
      "metadata": {
        "id": "8I2r5MeLhylR",
        "colab_type": "text"
      },
      "source": [
        "# IF "
      ]
    },
    {
      "cell_type": "code",
      "metadata": {
        "id": "zFLJ--jOhylU",
        "colab_type": "code",
        "colab": {},
        "outputId": "0f45e615-389f-4f5d-c731-3f728b95217d"
      },
      "source": [
        "#IF staements\n",
        "\n",
        "#An \"if statement\" is written by using the if keyword.\n",
        "\n",
        "a = 33\n",
        "b = 200\n",
        "if b > a:\n",
        "  print(\"b is greater than a\")"
      ],
      "execution_count": null,
      "outputs": [
        {
          "output_type": "stream",
          "text": [
            "b is greater than a\n"
          ],
          "name": "stdout"
        }
      ]
    },
    {
      "cell_type": "markdown",
      "metadata": {
        "id": "e8fSnpwGhylj",
        "colab_type": "text"
      },
      "source": [
        "# ELIF"
      ]
    },
    {
      "cell_type": "code",
      "metadata": {
        "id": "rmy20pIxhylm",
        "colab_type": "code",
        "colab": {},
        "outputId": "ef9d334b-c990-433e-e5be-0d7e26f37de6"
      },
      "source": [
        "# The elif keyword is pythons way of saying \"if the previous conditions were not true, then try this condition\".\n",
        "\n",
        "a = 33\n",
        "b = 33\n",
        "if b > a:\n",
        "  print(\"b is greater than a\")\n",
        "elif a == b:\n",
        "  print(\"a and b are equal\")"
      ],
      "execution_count": null,
      "outputs": [
        {
          "output_type": "stream",
          "text": [
            "a and b are equal\n"
          ],
          "name": "stdout"
        }
      ]
    },
    {
      "cell_type": "markdown",
      "metadata": {
        "id": "rlp9vypEhylw",
        "colab_type": "text"
      },
      "source": [
        "# ELSE"
      ]
    },
    {
      "cell_type": "code",
      "metadata": {
        "id": "6Cl_UkR6hyly",
        "colab_type": "code",
        "colab": {},
        "outputId": "a7f16e42-a22b-443b-d985-c8212db107ea"
      },
      "source": [
        "#The else keyword catches anything which isn't caught by the preceding conditions.\n",
        "\n",
        "\n",
        "a = 200\n",
        "b = 33\n",
        "if b > a:\n",
        "  print(\"b is greater than a\")\n",
        "elif a == b:\n",
        "  print(\"a and b are equal\")\n",
        "else:\n",
        "  print(\"a is greater than b\")"
      ],
      "execution_count": null,
      "outputs": [
        {
          "output_type": "stream",
          "text": [
            "a is greater than b\n"
          ],
          "name": "stdout"
        }
      ]
    },
    {
      "cell_type": "markdown",
      "metadata": {
        "id": "zOhQcFsFhyl8",
        "colab_type": "text"
      },
      "source": [
        "# LOOPS"
      ]
    },
    {
      "cell_type": "markdown",
      "metadata": {
        "id": "g1ZYULmBhyl-",
        "colab_type": "text"
      },
      "source": [
        "**Python has two primitive loop commands:**\n",
        "\n",
        "* while loops\n",
        "* for loops"
      ]
    },
    {
      "cell_type": "markdown",
      "metadata": {
        "id": "7pmrD1qbhymA",
        "colab_type": "text"
      },
      "source": [
        "* **With the while loop we can execute a set of statements as long as a condition is true.**"
      ]
    },
    {
      "cell_type": "code",
      "metadata": {
        "id": "xlTB63OYhymC",
        "colab_type": "code",
        "colab": {},
        "outputId": "23b6dc27-be1b-4595-a23e-aae886cf2404"
      },
      "source": [
        "i = 1\n",
        "while i < 6:\n",
        "  print(i)\n",
        "  i += 1"
      ],
      "execution_count": null,
      "outputs": [
        {
          "output_type": "stream",
          "text": [
            "1\n",
            "2\n",
            "3\n",
            "4\n",
            "5\n"
          ],
          "name": "stdout"
        }
      ]
    },
    {
      "cell_type": "markdown",
      "metadata": {
        "id": "qt-rk1O1hymM",
        "colab_type": "text"
      },
      "source": [
        "* **break** statement can stop the loop even if the while condition is true"
      ]
    },
    {
      "cell_type": "code",
      "metadata": {
        "id": "C06GNTW8hymN",
        "colab_type": "code",
        "colab": {},
        "outputId": "7a5fc3a0-a423-4621-b782-0d55fa3dd237"
      },
      "source": [
        "# With the break statement we can stop the loop even if the while condition is true:\n",
        "\n",
        "i = 1\n",
        "while i < 6:\n",
        "  print(i)\n",
        "  if i == 3:\n",
        "    break\n",
        "  i += 1"
      ],
      "execution_count": null,
      "outputs": [
        {
          "output_type": "stream",
          "text": [
            "1\n",
            "2\n",
            "3\n"
          ],
          "name": "stdout"
        }
      ]
    },
    {
      "cell_type": "markdown",
      "metadata": {
        "id": "5kUGIxFehyma",
        "colab_type": "text"
      },
      "source": [
        "* **continue** statement can stop the current iteration, and continue with the next"
      ]
    },
    {
      "cell_type": "code",
      "metadata": {
        "id": "5GOXrU9vhymc",
        "colab_type": "code",
        "colab": {},
        "outputId": "6b1a5449-1403-4faf-ea10-1342e84b264a"
      },
      "source": [
        "# With the continue statement we can stop the current iteration, and continue with the next:\n",
        "\n",
        "i = 0\n",
        "while i < 6:\n",
        "  i += 1 \n",
        "  if i == 3:\n",
        "    continue\n",
        "  print(i)"
      ],
      "execution_count": null,
      "outputs": [
        {
          "output_type": "stream",
          "text": [
            "1\n",
            "2\n",
            "4\n",
            "5\n",
            "6\n"
          ],
          "name": "stdout"
        }
      ]
    },
    {
      "cell_type": "markdown",
      "metadata": {
        "id": "_xymWATXhymq",
        "colab_type": "text"
      },
      "source": [
        "* **A for loop is used for iterating over a sequence (that is either a list, a tuple, a dictionary, a set, or a string).**"
      ]
    },
    {
      "cell_type": "code",
      "metadata": {
        "id": "Mc2bxce3hyms",
        "colab_type": "code",
        "colab": {},
        "outputId": "4b44803a-ed44-4c2c-aea1-ae9244ff0ad7"
      },
      "source": [
        "#With the for loop we can execute a set of statements, once for each item in a list, tuple, set etc.\n",
        "\n",
        "\n",
        "fruits = [\"apple\", \"banana\", \"cherry\"]\n",
        "for x in fruits:\n",
        "  print(x)"
      ],
      "execution_count": null,
      "outputs": [
        {
          "output_type": "stream",
          "text": [
            "apple\n",
            "banana\n",
            "cherry\n"
          ],
          "name": "stdout"
        }
      ]
    },
    {
      "cell_type": "code",
      "metadata": {
        "id": "7hVTrIdMhym5",
        "colab_type": "code",
        "colab": {},
        "outputId": "8d5482f1-f33d-4538-ff62-c58d547dd093"
      },
      "source": [
        "# Even strings are iterable objects, they contain a sequence of characters:\n",
        "\n",
        "for x in \"banana\":\n",
        "  print(x)"
      ],
      "execution_count": null,
      "outputs": [
        {
          "output_type": "stream",
          "text": [
            "b\n",
            "a\n",
            "n\n",
            "a\n",
            "n\n",
            "a\n"
          ],
          "name": "stdout"
        }
      ]
    },
    {
      "cell_type": "code",
      "metadata": {
        "id": "G7H05ITChynD",
        "colab_type": "code",
        "colab": {},
        "outputId": "6ee5d15f-6f12-4a1c-d546-88c0afadfea2"
      },
      "source": [
        "# With the break statement we can stop the loop before it has looped through all the items:\n",
        "\n",
        "fruits = [\"apple\", \"banana\", \"cherry\"]\n",
        "for x in fruits:\n",
        "  print(x) \n",
        "  if x == \"banana\":\n",
        "    break"
      ],
      "execution_count": null,
      "outputs": [
        {
          "output_type": "stream",
          "text": [
            "apple\n",
            "banana\n"
          ],
          "name": "stdout"
        }
      ]
    },
    {
      "cell_type": "code",
      "metadata": {
        "id": "T-gYzdGShynW",
        "colab_type": "code",
        "colab": {},
        "outputId": "7c352787-015c-4260-d749-6882e9bd0a7f"
      },
      "source": [
        "fruits = [\"apple\", \"banana\", \"cherry\"]\n",
        "for x in fruits:\n",
        "  if x == \"banana\":\n",
        "    break\n",
        "  print(x)"
      ],
      "execution_count": null,
      "outputs": [
        {
          "output_type": "stream",
          "text": [
            "apple\n"
          ],
          "name": "stdout"
        }
      ]
    },
    {
      "cell_type": "code",
      "metadata": {
        "id": "bzSvCdtghynh",
        "colab_type": "code",
        "colab": {},
        "outputId": "b1d8a9fc-035f-450c-a009-d031909a0274"
      },
      "source": [
        "# With the continue statement we can stop the current iteration of the loop, and continue with the next:\n",
        "\n",
        "fruits = [\"apple\", \"banana\", \"cherry\"]\n",
        "for x in fruits:\n",
        "  if x == \"banana\":\n",
        "    continue\n",
        "  print(x)"
      ],
      "execution_count": null,
      "outputs": [
        {
          "output_type": "stream",
          "text": [
            "apple\n",
            "cherry\n"
          ],
          "name": "stdout"
        }
      ]
    },
    {
      "cell_type": "markdown",
      "metadata": {
        "id": "KLzPgip-hynq",
        "colab_type": "text"
      },
      "source": [
        "* **A nested loop is a loop inside a loop.**\n",
        "\n",
        "* The \"inner loop\" will be executed one time for each iteration of the \"outer loop\":"
      ]
    },
    {
      "cell_type": "code",
      "metadata": {
        "id": "DsyTGP0Ahynr",
        "colab_type": "code",
        "colab": {},
        "outputId": "04aa34ca-c9b6-41fa-dd19-60f386b3060e"
      },
      "source": [
        "adj = [\"red\", \"big\", \"tasty\"]\n",
        "fruits = [\"apple\", \"banana\", \"cherry\"]\n",
        "\n",
        "for x in adj:\n",
        "  for y in fruits:\n",
        "    print(x, y)"
      ],
      "execution_count": null,
      "outputs": [
        {
          "output_type": "stream",
          "text": [
            "red apple\n",
            "red banana\n",
            "red cherry\n",
            "big apple\n",
            "big banana\n",
            "big cherry\n",
            "tasty apple\n",
            "tasty banana\n",
            "tasty cherry\n"
          ],
          "name": "stdout"
        }
      ]
    },
    {
      "cell_type": "markdown",
      "metadata": {
        "id": "VgUcI0tuhynz",
        "colab_type": "text"
      },
      "source": [
        "# Functions"
      ]
    },
    {
      "cell_type": "markdown",
      "metadata": {
        "id": "6IgAtIb1hyn1",
        "colab_type": "text"
      },
      "source": [
        "* **A function is a block of code which only runs when it is called.**\n",
        "\n",
        "\n",
        "* You can pass data, known as parameters, into a function.\n",
        "* A function can return data as a result."
      ]
    },
    {
      "cell_type": "code",
      "metadata": {
        "id": "juDWRP9Uhyn4",
        "colab_type": "code",
        "colab": {}
      },
      "source": [
        "# In Python a function is defined using the def keyword:\n",
        "\n",
        "def my_function():\n",
        "  print(\"Hello from a function\")"
      ],
      "execution_count": null,
      "outputs": []
    },
    {
      "cell_type": "code",
      "metadata": {
        "id": "quv3886fhyoD",
        "colab_type": "code",
        "colab": {},
        "outputId": "06958d98-bfd1-4b3a-bf42-83afd79c394c"
      },
      "source": [
        "# To call a function, use the function name followed by parenthesis:\n",
        "\n",
        "my_function()"
      ],
      "execution_count": null,
      "outputs": [
        {
          "output_type": "stream",
          "text": [
            "Hello from a function\n"
          ],
          "name": "stdout"
        }
      ]
    },
    {
      "cell_type": "markdown",
      "metadata": {
        "id": "BtTAnxF0hyoM",
        "colab_type": "text"
      },
      "source": [
        "* Information can be passed to functions as parameter.\n",
        "\n",
        "* Parameters are specified after the function name, inside the parentheses. You can add as many parameters as you want, just separate them with a comma.\n",
        "\n"
      ]
    },
    {
      "cell_type": "code",
      "metadata": {
        "id": "_OfEZEZShyoO",
        "colab_type": "code",
        "colab": {},
        "outputId": "91288987-6a49-4d43-a06f-cbe188d1ba9a"
      },
      "source": [
        "# When the function is called, we pass along a first name, which is used inside the function to print the full name\n",
        "\n",
        "def my_function(fname):\n",
        "  print(fname + \" Address\")\n",
        "\n",
        "my_function(\"Email\")\n",
        "my_function(\"Office\")\n",
        "my_function(\"House\")"
      ],
      "execution_count": null,
      "outputs": [
        {
          "output_type": "stream",
          "text": [
            "Email Address\n",
            "Office Address\n",
            "House Address\n"
          ],
          "name": "stdout"
        }
      ]
    },
    {
      "cell_type": "code",
      "metadata": {
        "id": "n2C_PQPIhyob",
        "colab_type": "code",
        "colab": {},
        "outputId": "b3223412-bc4f-4eb6-dbd1-aefe6790cc98"
      },
      "source": [
        "# If we call the function without parameter, it uses the default value:\n",
        "\n",
        "def my_function(country = \"Norway\"):\n",
        "  print(\"I am from \" + country)\n",
        "\n",
        "my_function(\"Sweden\")\n",
        "my_function(\"India\")\n",
        "my_function()\n",
        "my_function(\"Brazil\")"
      ],
      "execution_count": null,
      "outputs": [
        {
          "output_type": "stream",
          "text": [
            "I am from Sweden\n",
            "I am from India\n",
            "I am from Norway\n",
            "I am from Brazil\n"
          ],
          "name": "stdout"
        }
      ]
    },
    {
      "cell_type": "code",
      "metadata": {
        "id": "A_TDMg6Bhyoj",
        "colab_type": "code",
        "colab": {},
        "outputId": "1b57bf45-fc3d-4d49-d4d0-de8122a18a3e"
      },
      "source": [
        "\"\"\"You can send any data types of parameter to a function (string, number, list, dictionary etc.), \n",
        "and it will be treated as the same data type inside the function.\"\"\"\n",
        "\n",
        "\n",
        "def my_function(food):\n",
        "  for x in food:\n",
        "    print(x)\n",
        "\n",
        "fruits = [\"apple\", \"banana\", \"cherry\"]\n",
        "\n",
        "my_function(fruits)"
      ],
      "execution_count": null,
      "outputs": [
        {
          "output_type": "stream",
          "text": [
            "apple\n",
            "banana\n",
            "cherry\n"
          ],
          "name": "stdout"
        }
      ]
    },
    {
      "cell_type": "code",
      "metadata": {
        "id": "Wpq9CZRWhyor",
        "colab_type": "code",
        "colab": {},
        "outputId": "e628afc6-cc32-49b8-dd75-558cfffb12fe"
      },
      "source": [
        "# To let a function return a value, use the return statement:\n",
        "\n",
        "def my_function(x):\n",
        "  return 3 * x\n",
        "\n",
        "print(my_function(3))\n",
        "print(my_function(5))\n",
        "print(my_function(9))"
      ],
      "execution_count": null,
      "outputs": [
        {
          "output_type": "stream",
          "text": [
            "9\n",
            "15\n",
            "27\n"
          ],
          "name": "stdout"
        }
      ]
    },
    {
      "cell_type": "markdown",
      "metadata": {
        "id": "-u7zv21khyoy",
        "colab_type": "text"
      },
      "source": [
        "# Exception Handling"
      ]
    },
    {
      "cell_type": "markdown",
      "metadata": {
        "id": "FViDu3XOhyo0",
        "colab_type": "text"
      },
      "source": [
        "* **The try block lets you test a block of code for errors.**\n",
        "\n",
        "\n",
        "* **The except block lets you handle the error.**\n",
        "\n",
        "\n",
        "* **The finally block lets you execute code, regardless of the result of the try- and except blocks.**"
      ]
    },
    {
      "cell_type": "code",
      "metadata": {
        "id": "GsKtdFfQhyo1",
        "colab_type": "code",
        "colab": {},
        "outputId": "5d7df5fb-cf4e-4b8f-829b-a0b3f052b764"
      },
      "source": [
        "# The try block will generate an exception, because z is not defined:\n",
        "\n",
        "try:\n",
        "  print(z)\n",
        "except:\n",
        "  print(\"An exception occurred\")\n",
        "\n",
        "# Since the try block raises an error, the except block will be executed.\n",
        "\n",
        "# Without the try block, the program will crash and raise an error:"
      ],
      "execution_count": null,
      "outputs": [
        {
          "output_type": "stream",
          "text": [
            "An exception occurred\n"
          ],
          "name": "stdout"
        }
      ]
    },
    {
      "cell_type": "code",
      "metadata": {
        "id": "sMod4iSWhyo9",
        "colab_type": "code",
        "colab": {},
        "outputId": "e5d8148c-80a8-4fc9-b9de-bb44bcd7fb07"
      },
      "source": [
        "#You can use the else keyword to define a block of code to be executed if no errors were raised:\n",
        "\n",
        "# the try block does not generate any error:\n",
        "\n",
        "try:\n",
        "  print(\"Hello\")\n",
        "except:\n",
        "  print(\"Something went wrong\")\n",
        "else:\n",
        "  print(\"Nothing went wrong\")"
      ],
      "execution_count": null,
      "outputs": [
        {
          "output_type": "stream",
          "text": [
            "Hello\n",
            "Nothing went wrong\n"
          ],
          "name": "stdout"
        }
      ]
    },
    {
      "cell_type": "code",
      "metadata": {
        "id": "pXA2M3a7hypE",
        "colab_type": "code",
        "colab": {},
        "outputId": "3ef647af-2656-4540-c3d6-9a14aec8faf7"
      },
      "source": [
        "try:\n",
        "  print(z)\n",
        "except:\n",
        "  print(\"Something went wrong\")\n",
        "else:\n",
        "  print(\"Nothing went wrong\")"
      ],
      "execution_count": null,
      "outputs": [
        {
          "output_type": "stream",
          "text": [
            "Something went wrong\n"
          ],
          "name": "stdout"
        }
      ]
    },
    {
      "cell_type": "code",
      "metadata": {
        "id": "pSxv_pgjhypN",
        "colab_type": "code",
        "colab": {},
        "outputId": "6b9a5fa0-a764-46ce-b393-10eff36ad39c"
      },
      "source": [
        "# The finally block, if specified, will be executed regardless if the try block raises an error or not.\n",
        "\n",
        "try:\n",
        "  print(z)\n",
        "except:\n",
        "  print(\"Something went wrong\")\n",
        "finally:\n",
        "  print(\"The 'try except' is finished\")"
      ],
      "execution_count": null,
      "outputs": [
        {
          "output_type": "stream",
          "text": [
            "Something went wrong\n",
            "The 'try except' is finished\n"
          ],
          "name": "stdout"
        }
      ]
    },
    {
      "cell_type": "code",
      "metadata": {
        "id": "KT489x74hypX",
        "colab_type": "code",
        "colab": {},
        "outputId": "1292d1f5-9bb8-47d0-9227-ea6068e3ae08"
      },
      "source": [
        "try:\n",
        "  print(\"Hello\")\n",
        "except:\n",
        "  print(\"Something went wrong\")\n",
        "finally:\n",
        "  print(\"The 'try except' is finished\")"
      ],
      "execution_count": null,
      "outputs": [
        {
          "output_type": "stream",
          "text": [
            "Hello\n",
            "The 'try except' is finished\n"
          ],
          "name": "stdout"
        }
      ]
    },
    {
      "cell_type": "code",
      "metadata": {
        "id": "TGNSQsH3hypi",
        "colab_type": "code",
        "colab": {}
      },
      "source": [
        ""
      ],
      "execution_count": null,
      "outputs": []
    }
  ]
}
