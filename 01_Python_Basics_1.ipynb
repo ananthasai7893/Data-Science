{
  "nbformat": 4,
  "nbformat_minor": 0,
  "metadata": {
    "kernelspec": {
      "display_name": "Python 3",
      "language": "python",
      "name": "python3"
    },
    "language_info": {
      "codemirror_mode": {
        "name": "ipython",
        "version": 3
      },
      "file_extension": ".py",
      "mimetype": "text/x-python",
      "name": "python",
      "nbconvert_exporter": "python",
      "pygments_lexer": "ipython3",
      "version": "3.7.3"
    },
    "colab": {
      "name": "Copy of 01 Python Basics-1 (1).ipynb",
      "provenance": [],
      "include_colab_link": true
    }
  },
  "cells": [
    {
      "cell_type": "markdown",
      "metadata": {
        "id": "view-in-github",
        "colab_type": "text"
      },
      "source": [
        "<a href=\"https://colab.research.google.com/github/ananthasai7893/Data-Science/blob/master/Copy_of_01_Python_Basics_1.ipynb\" target=\"_parent\"><img src=\"https://colab.research.google.com/assets/colab-badge.svg\" alt=\"Open In Colab\"/></a>"
      ]
    },
    {
      "cell_type": "markdown",
      "metadata": {
        "id": "z9R250vyedwS",
        "colab_type": "text"
      },
      "source": [
        "## Python for Data Science"
      ]
    },
    {
      "cell_type": "markdown",
      "metadata": {
        "id": "AFYl64U_edwY",
        "colab_type": "text"
      },
      "source": [
        "* Python is open source.\n",
        "\n",
        "* Unlike other languages you don’t need an Integrated development environment, python provides inbuilt idle for you to run programs\n",
        "\n",
        "* This is the best part, even though being a general-purpose programming language, there’s a whole dedicated community contributing to make it more than that.\n",
        "\n",
        "* Use it both the ways, as a general purpose programming and for data analysis/science, with the help of different libraries in python.\n",
        "\n",
        "* Works on different platforms (Windows, Mac, Linux, Raspberry Pi).\n",
        "\n",
        "* Python is easy to learn\n",
        "\n",
        "\n"
      ]
    },
    {
      "cell_type": "markdown",
      "metadata": {
        "id": "NUTHZu16edwe",
        "colab_type": "text"
      },
      "source": [
        "# Appliations of Python"
      ]
    },
    {
      "cell_type": "markdown",
      "metadata": {
        "id": "nM9W8fooedwh",
        "colab_type": "text"
      },
      "source": [
        "* Python can be used on a server to create web applications.\n",
        "\n",
        "* Python can be used alongside software to create workflows.\n",
        "\n",
        "* Python can connect to database systems. It can also read and modify files.\n",
        "\n",
        "* Python can be used to handle big data and perform complex mathematics.\n",
        "\n",
        "* Python can be used for rapid prototyping, or for software development.\n"
      ]
    },
    {
      "cell_type": "markdown",
      "metadata": {
        "id": "XOyocEvgedwk",
        "colab_type": "raw"
      },
      "source": [
        "Basics of Python Programming"
      ]
    },
    {
      "cell_type": "markdown",
      "metadata": {
        "id": "xXwJnYLcedwn",
        "colab_type": "text"
      },
      "source": [
        "* Comments\n",
        "* Docstrings\n",
        "* Print\n",
        "* Variables\n",
        "* Data types\n",
        "* Operators\n",
        "* Arrays\n",
        "* List\n",
        "* Tuple\n",
        "* Set\n",
        "* Dictionary"
      ]
    },
    {
      "cell_type": "markdown",
      "metadata": {
        "id": "UmRrN2XGedwp",
        "colab_type": "text"
      },
      "source": [
        "# Comments:\n"
      ]
    },
    {
      "cell_type": "markdown",
      "metadata": {
        "id": "QInFNZNLedwr",
        "colab_type": "text"
      },
      "source": [
        "\n",
        "**Python has commenting capability for the purpose of in-code documentation.**\n",
        "\n",
        "* Comments start with a #, and Python will render the rest of the line as a comment:\n",
        "\n"
      ]
    },
    {
      "cell_type": "code",
      "metadata": {
        "id": "m5mEMzmXedwt",
        "colab_type": "code",
        "colab": {},
        "outputId": "0d721cd0-6b55-47c1-f17a-26b9b29dbe9b"
      },
      "source": [
        "#This is a comment.\n",
        "print(\"Hello, World!\")\n"
      ],
      "execution_count": null,
      "outputs": [
        {
          "output_type": "stream",
          "text": [
            "Hello, World!\n"
          ],
          "name": "stdout"
        }
      ]
    },
    {
      "cell_type": "markdown",
      "metadata": {
        "id": "tobjqkvDedw-",
        "colab_type": "text"
      },
      "source": [
        "# Docstrings:"
      ]
    },
    {
      "cell_type": "markdown",
      "metadata": {
        "id": "CLtl9ySCedxA",
        "colab_type": "text"
      },
      "source": [
        "* Python also has extended documentation capability, called docstrings.\n",
        "\n",
        "* Docstrings can be one line, or multiline.\n",
        "\n",
        "* Python uses triple quotes at the beginning and end of the docstring."
      ]
    },
    {
      "cell_type": "code",
      "metadata": {
        "id": "bfrXMeGledxC",
        "colab_type": "code",
        "colab": {},
        "outputId": "57744449-3d8e-4497-fdc1-250a3da02abf"
      },
      "source": [
        "\"\"\"This is a \n",
        ".\n",
        ".\n",
        ".\n",
        ".\n",
        ".\n",
        "multiline docstring.\"\"\"\n",
        "\n",
        "print(\"I am a Data Scientist\")\n"
      ],
      "execution_count": null,
      "outputs": [
        {
          "output_type": "stream",
          "text": [
            "I am a Data Scientist\n"
          ],
          "name": "stdout"
        }
      ]
    },
    {
      "cell_type": "markdown",
      "metadata": {
        "id": "JaDgWkVeedxO",
        "colab_type": "text"
      },
      "source": [
        "# Print  \n",
        "\n",
        "* Print statement is often used as a output variable."
      ]
    },
    {
      "cell_type": "code",
      "metadata": {
        "id": "g4ruaVuKedxQ",
        "colab_type": "code",
        "colab": {
          "base_uri": "https://localhost:8080/",
          "height": 35
        },
        "outputId": "e6ca9443-df83-4b9d-f6e8-ac283f910f8c"
      },
      "source": [
        "x = \"awesome\"\n",
        "print(\"Python is \" + x)"
      ],
      "execution_count": null,
      "outputs": [
        {
          "output_type": "stream",
          "text": [
            "Python is awesome\n"
          ],
          "name": "stdout"
        }
      ]
    },
    {
      "cell_type": "code",
      "metadata": {
        "id": "eKUEePjqedxg",
        "colab_type": "code",
        "colab": {},
        "outputId": "2139197e-c7ef-46d5-f1b2-3d52d1276eac"
      },
      "source": [
        "x = \"Python is \"\n",
        "y = \"awesome\"\n",
        "z =  x + y\n",
        "print(z)"
      ],
      "execution_count": null,
      "outputs": [
        {
          "output_type": "stream",
          "text": [
            "Python is awesome\n"
          ],
          "name": "stdout"
        }
      ]
    },
    {
      "cell_type": "markdown",
      "metadata": {
        "id": "2C6vJMTkedxs",
        "colab_type": "text"
      },
      "source": [
        "* For numbers, the + character works as a mathematical operator:"
      ]
    },
    {
      "cell_type": "code",
      "metadata": {
        "id": "gLGwJckjedxu",
        "colab_type": "code",
        "colab": {},
        "outputId": "e408b1ea-867d-433d-b959-51f61b6fe15a"
      },
      "source": [
        "x = 5\n",
        "y = 10\n",
        "print(x + y)\n"
      ],
      "execution_count": null,
      "outputs": [
        {
          "output_type": "stream",
          "text": [
            "15\n"
          ],
          "name": "stdout"
        }
      ]
    },
    {
      "cell_type": "markdown",
      "metadata": {
        "id": "lP0yFigMedx8",
        "colab_type": "text"
      },
      "source": [
        "* If you try to combine a string and a number, Python will give you an error:\n"
      ]
    },
    {
      "cell_type": "code",
      "metadata": {
        "id": "JOnNnTy4edx_",
        "colab_type": "code",
        "colab": {},
        "outputId": "f4e9106a-1cff-4e88-d4ef-b29a72ca9d87"
      },
      "source": [
        "x = 5\n",
        "y = \"John\"\n",
        "print(x + y)\n"
      ],
      "execution_count": null,
      "outputs": [
        {
          "output_type": "error",
          "ename": "TypeError",
          "evalue": "unsupported operand type(s) for +: 'int' and 'str'",
          "traceback": [
            "\u001b[1;31m---------------------------------------------------------------------------\u001b[0m",
            "\u001b[1;31mTypeError\u001b[0m                                 Traceback (most recent call last)",
            "\u001b[1;32m<ipython-input-15-00c66e4310ff>\u001b[0m in \u001b[0;36m<module>\u001b[1;34m\u001b[0m\n\u001b[0;32m      1\u001b[0m \u001b[0mx\u001b[0m \u001b[1;33m=\u001b[0m \u001b[1;36m5\u001b[0m\u001b[1;33m\u001b[0m\u001b[1;33m\u001b[0m\u001b[0m\n\u001b[0;32m      2\u001b[0m \u001b[0my\u001b[0m \u001b[1;33m=\u001b[0m \u001b[1;34m\"John\"\u001b[0m\u001b[1;33m\u001b[0m\u001b[1;33m\u001b[0m\u001b[0m\n\u001b[1;32m----> 3\u001b[1;33m \u001b[0mprint\u001b[0m\u001b[1;33m(\u001b[0m\u001b[0mx\u001b[0m \u001b[1;33m+\u001b[0m \u001b[0my\u001b[0m\u001b[1;33m)\u001b[0m\u001b[1;33m\u001b[0m\u001b[1;33m\u001b[0m\u001b[0m\n\u001b[0m",
            "\u001b[1;31mTypeError\u001b[0m: unsupported operand type(s) for +: 'int' and 'str'"
          ]
        }
      ]
    },
    {
      "cell_type": "markdown",
      "metadata": {
        "id": "kuvBWZ5uedyM",
        "colab_type": "text"
      },
      "source": [
        "# Variables"
      ]
    },
    {
      "cell_type": "markdown",
      "metadata": {
        "id": "hu0Fl1i-edyN",
        "colab_type": "text"
      },
      "source": [
        "**A variable can have a short name (like x and y) or a more descriptive name (age, carname, total_volume).**\n",
        "\n",
        "* A variable name must start with a letter or the underscore character\n",
        "* A variable name cannot start with a number\n",
        "* A variable name can only contain alpha-numeric characters and underscores (A-z, 0-9, and _ )\n",
        "* Variable names are case-sensitive (age, Age and AGE are three different variables)"
      ]
    },
    {
      "cell_type": "code",
      "metadata": {
        "id": "xlkr85w1edyP",
        "colab_type": "code",
        "colab": {}
      },
      "source": [
        "x = 5\n",
        "y = \"John\"\n",
        "z = 2.9\n"
      ],
      "execution_count": null,
      "outputs": []
    },
    {
      "cell_type": "code",
      "metadata": {
        "id": "em8yqapYedyb",
        "colab_type": "code",
        "colab": {},
        "outputId": "a6bed7f9-6144-4843-ed9c-e2a40f276c95"
      },
      "source": [
        "print(x)"
      ],
      "execution_count": null,
      "outputs": [
        {
          "output_type": "stream",
          "text": [
            "5\n"
          ],
          "name": "stdout"
        }
      ]
    },
    {
      "cell_type": "code",
      "metadata": {
        "id": "kcdKZTzfedyk",
        "colab_type": "code",
        "colab": {}
      },
      "source": [
        "x = 4 # x is of type int\n",
        "x = \"Sally\" # x is now of type string\n"
      ],
      "execution_count": null,
      "outputs": []
    },
    {
      "cell_type": "code",
      "metadata": {
        "id": "U_-ogRg7edy0",
        "colab_type": "code",
        "colab": {},
        "outputId": "c52dd7ea-393a-451a-bbe1-3a770fb8985c"
      },
      "source": [
        "print(x)\n",
        "print(y)\n",
        "print(z)\n"
      ],
      "execution_count": null,
      "outputs": [
        {
          "output_type": "stream",
          "text": [
            "Sally\n",
            "John\n",
            "2.9\n"
          ],
          "name": "stdout"
        }
      ]
    },
    {
      "cell_type": "markdown",
      "metadata": {
        "id": "w_mQgxzaedy_",
        "colab_type": "text"
      },
      "source": [
        "# Datatypes\n",
        "\n",
        "* Int\n",
        "* Float\n",
        "* Complex\n",
        "* String/Char\n"
      ]
    },
    {
      "cell_type": "code",
      "metadata": {
        "id": "-D5DPhFJedzC",
        "colab_type": "code",
        "colab": {}
      },
      "source": [
        "#Variables of numeric types are created when you assign a value to them:\n",
        "\n",
        "x = 1    # int\n",
        "y = 2.8  # float\n",
        "z = 1j   # complex\n"
      ],
      "execution_count": null,
      "outputs": []
    },
    {
      "cell_type": "code",
      "metadata": {
        "id": "v89URGc-edzM",
        "colab_type": "code",
        "colab": {},
        "outputId": "a8d56f2f-4a30-49d9-8a3a-70a4a151194f"
      },
      "source": [
        "#Float can also be scientific numbers with an \"e\" to indicate the power of 10\n",
        "\n",
        "x = 35e3\n",
        "print(x)"
      ],
      "execution_count": null,
      "outputs": [
        {
          "output_type": "stream",
          "text": [
            "35000.0\n"
          ],
          "name": "stdout"
        }
      ]
    },
    {
      "cell_type": "code",
      "metadata": {
        "id": "eeHz7BUHedzZ",
        "colab_type": "code",
        "colab": {},
        "outputId": "a290e4ea-1c1e-4bd8-c179-db8867b54a0c"
      },
      "source": [
        "# Complex numbers are written with a \"j\" as the imaginary part.\n",
        "\n",
        "x = 3+5j\n",
        "print(x)\n"
      ],
      "execution_count": null,
      "outputs": [
        {
          "output_type": "stream",
          "text": [
            "(3+5j)\n"
          ],
          "name": "stdout"
        }
      ]
    },
    {
      "cell_type": "code",
      "metadata": {
        "id": "BrapimbYedzl",
        "colab_type": "code",
        "colab": {},
        "outputId": "13cbf835-a066-41c7-9cf5-7dddd29b7c2b"
      },
      "source": [
        "# Strings literals in python are surrounded by either single quotation marks, or double quotation marks.\n",
        "\n",
        "x = 'DataScience'\n",
        "print(x)"
      ],
      "execution_count": null,
      "outputs": [
        {
          "output_type": "stream",
          "text": [
            "DataScience\n"
          ],
          "name": "stdout"
        }
      ]
    },
    {
      "cell_type": "code",
      "metadata": {
        "id": "fLfspifQedzu",
        "colab_type": "code",
        "colab": {},
        "outputId": "e4481fd4-c5ab-4a23-fb69-e3e7cdef35e9"
      },
      "source": [
        "#Square brackets can be used to access elements of the string.\n",
        "print(x[4])"
      ],
      "execution_count": null,
      "outputs": [
        {
          "output_type": "stream",
          "text": [
            "S\n"
          ],
          "name": "stdout"
        }
      ]
    },
    {
      "cell_type": "code",
      "metadata": {
        "id": "1wzFiJMhedz7",
        "colab_type": "code",
        "colab": {},
        "outputId": "b12817d6-1d4f-4f39-c01c-6e9d7132bde5"
      },
      "source": [
        "# The len() method returns the length of a string:\n",
        "\n",
        "print(len(x))"
      ],
      "execution_count": null,
      "outputs": [
        {
          "output_type": "stream",
          "text": [
            "11\n"
          ],
          "name": "stdout"
        }
      ]
    },
    {
      "cell_type": "code",
      "metadata": {
        "id": "eguUaIBled0G",
        "colab_type": "code",
        "colab": {},
        "outputId": "58d2cbae-f19d-4e98-bfa5-97b76b197c3c"
      },
      "source": [
        "# The lower() method returns the string in lower case:\n",
        "\n",
        "print(x.lower())"
      ],
      "execution_count": null,
      "outputs": [
        {
          "output_type": "stream",
          "text": [
            "datascience\n"
          ],
          "name": "stdout"
        }
      ]
    },
    {
      "cell_type": "code",
      "metadata": {
        "id": "CT3OWBrTed0R",
        "colab_type": "code",
        "colab": {},
        "outputId": "bedbd936-68d2-4e8f-cf08-1f534b1074c1"
      },
      "source": [
        "# The upper() method returns the string in upper case:\n",
        "print(x.upper())"
      ],
      "execution_count": null,
      "outputs": [
        {
          "output_type": "stream",
          "text": [
            "DATASCIENCE\n"
          ],
          "name": "stdout"
        }
      ]
    },
    {
      "cell_type": "markdown",
      "metadata": {
        "id": "ggPRT81Ved0g",
        "colab_type": "text"
      },
      "source": [
        "# Operators"
      ]
    },
    {
      "cell_type": "markdown",
      "metadata": {
        "id": "iJQ-RkjCed0h",
        "colab_type": "text"
      },
      "source": [
        "**Operators are used to perform operations on variables and values.**\n",
        "\n",
        "Python divides the operators in the following groups:\n",
        "\n",
        "* Arithmetic operators\n",
        "* Assignment operators\n",
        "* Comparison operators\n",
        "* Logical operators\n",
        "* Identity operators\n",
        "* Membership operators\n",
        "* Bitwise operators\n"
      ]
    },
    {
      "cell_type": "markdown",
      "metadata": {
        "id": "z6Pn1f-3ed0j",
        "colab_type": "text"
      },
      "source": [
        "### Arithmetic Operators\n",
        "\n",
        "* Arithmetic operators are used with numeric values to perform common mathematical operations:"
      ]
    },
    {
      "cell_type": "markdown",
      "metadata": {
        "id": "UtjUybY6ed0k",
        "colab_type": "raw"
      },
      "source": [
        "    +\tAddition\tx + y\t\n",
        "    -\tSubtraction\tx - y\t\n",
        "    *\tMultiplication\tx * y\t\n",
        "    /\tDivision\tx / y\t\n",
        "    %\tModulus\tx % y\t\n",
        "    \n",
        "    **\tExponentiation\tx ** y\t \n",
        "    //\tFloor division\tx // y"
      ]
    },
    {
      "cell_type": "markdown",
      "metadata": {
        "id": "Z3q1y23Ged0m",
        "colab_type": "text"
      },
      "source": [
        "###  Comparison Operators\n",
        "\n",
        "* Comparison operators are used to compare two values:"
      ]
    },
    {
      "cell_type": "markdown",
      "metadata": {
        "id": "Mk4LjIMted0n",
        "colab_type": "raw"
      },
      "source": [
        "    ==\tEqual\tx == y\t\n",
        "    !=\tNot equal\tx != y\t\n",
        "    >\tGreater than\tx > y\t\n",
        "    <\tLess than\tx < y\t\n",
        "    >=\tGreater than or equal to\tx >= y\t\n",
        "    <=\tLess than or equal to\tx <= y"
      ]
    },
    {
      "cell_type": "markdown",
      "metadata": {
        "id": "iFw0iEmNed0o",
        "colab_type": "text"
      },
      "source": [
        "### Logical Operators\n",
        "\n",
        "* Logical operators are used to combine conditional statements:"
      ]
    },
    {
      "cell_type": "markdown",
      "metadata": {
        "id": "uV0kdIl5ed0q",
        "colab_type": "raw"
      },
      "source": [
        "and - Returns True if both statements are true\tx < 5 and  x < 10\n",
        "\n",
        "or -  Returns True if one of the statements is true\tx < 5 or x < 4\t\n",
        "\n",
        "not - Reverse the result, returns False if the result is true\tnot(x < 5 and x < 10)"
      ]
    },
    {
      "cell_type": "markdown",
      "metadata": {
        "id": "kKYe7vs5ed0r",
        "colab_type": "text"
      },
      "source": [
        "### Membership Operators\n",
        "\n",
        "* Membership operators are used to test if a sequence is presented in an object:"
      ]
    },
    {
      "cell_type": "markdown",
      "metadata": {
        "id": "pIK73rbQed0t",
        "colab_type": "raw"
      },
      "source": [
        "in \tReturns True if a sequence with the specified value is present in the object\tx in y\n",
        "\n",
        "not in\tReturns True if a sequence with the specified value is not present in the object\tx not in y"
      ]
    },
    {
      "cell_type": "markdown",
      "metadata": {
        "id": "faafNowMed0w",
        "colab_type": "text"
      },
      "source": [
        "# Data Structures"
      ]
    },
    {
      "cell_type": "markdown",
      "metadata": {
        "id": "zq9NEoDWed0y",
        "colab_type": "text"
      },
      "source": [
        "*  **ARRAYS**"
      ]
    },
    {
      "cell_type": "markdown",
      "metadata": {
        "id": "fHgVeSrEed01",
        "colab_type": "text"
      },
      "source": [
        "* **An array is a special variable, which can hold more than one value at a time.**\n"
      ]
    },
    {
      "cell_type": "markdown",
      "metadata": {
        "id": "F4zahuRred02",
        "colab_type": "raw"
      },
      "source": [
        "If you have a list of items (a list of car names, for example), storing the cars in single variables could look like this:\n",
        "\n",
        "car1 = \"Ford\";\n",
        "car2 = \"Volvo\";\n",
        "car3 = \"BMW\";\n",
        "\n",
        "The solution is an array!"
      ]
    },
    {
      "cell_type": "markdown",
      "metadata": {
        "id": "gDCXGPN6ed04",
        "colab_type": "text"
      },
      "source": [
        "**An array can hold many values under a single name, and you can access the values by referring to an index number.**"
      ]
    },
    {
      "cell_type": "code",
      "metadata": {
        "id": "zmw_UjJFed05",
        "colab_type": "code",
        "colab": {}
      },
      "source": [
        "cars = [\"Ford\", \"Volvo\", \"BMW\", \"Ferrari\", \"Hundai\"]"
      ],
      "execution_count": null,
      "outputs": []
    },
    {
      "cell_type": "code",
      "metadata": {
        "id": "hIZzGuvied1H",
        "colab_type": "code",
        "colab": {}
      },
      "source": [
        "x = cars[3]"
      ],
      "execution_count": null,
      "outputs": []
    },
    {
      "cell_type": "code",
      "metadata": {
        "id": "wzj4M59med1S",
        "colab_type": "code",
        "colab": {},
        "outputId": "979774ff-6372-4043-e3b6-5323278147ab"
      },
      "source": [
        "x"
      ],
      "execution_count": null,
      "outputs": [
        {
          "output_type": "execute_result",
          "data": {
            "text/plain": [
              "'Ferrari'"
            ]
          },
          "metadata": {
            "tags": []
          },
          "execution_count": 4
        }
      ]
    },
    {
      "cell_type": "code",
      "metadata": {
        "id": "dA3BFubsed1c",
        "colab_type": "code",
        "colab": {},
        "outputId": "3d1919ea-e7c9-4e34-8688-f3c3a7dcf482"
      },
      "source": [
        "x = len(cars)\n",
        "print(x)"
      ],
      "execution_count": null,
      "outputs": [
        {
          "output_type": "stream",
          "text": [
            "5\n"
          ],
          "name": "stdout"
        }
      ]
    },
    {
      "cell_type": "code",
      "metadata": {
        "id": "Hoyq2kU0ed1m",
        "colab_type": "code",
        "colab": {},
        "outputId": "a1a060ec-bce3-4946-c57f-08a8e680d152"
      },
      "source": [
        "for x in cars:\n",
        "  print(x)"
      ],
      "execution_count": null,
      "outputs": [
        {
          "output_type": "stream",
          "text": [
            "Ford\n",
            "Volvo\n",
            "BMW\n",
            "Ferrari\n",
            "Hundai\n",
            "Honda\n"
          ],
          "name": "stdout"
        }
      ]
    },
    {
      "cell_type": "code",
      "metadata": {
        "id": "S_maKF4ied1u",
        "colab_type": "code",
        "colab": {}
      },
      "source": [
        "cars.append(\"Honda\")"
      ],
      "execution_count": null,
      "outputs": []
    },
    {
      "cell_type": "markdown",
      "metadata": {
        "id": "i8MajNhwed13",
        "colab_type": "text"
      },
      "source": [
        "* **LIST**"
      ]
    },
    {
      "cell_type": "markdown",
      "metadata": {
        "id": "XZYPLaP-ed15",
        "colab_type": "text"
      },
      "source": [
        "**List is a collection which is ordered and changeable. Allows duplicate members.**\n",
        "\n",
        "**In Python lists are written with square brackets.**"
      ]
    },
    {
      "cell_type": "code",
      "metadata": {
        "id": "LOQrEwY5ed18",
        "colab_type": "code",
        "colab": {},
        "outputId": "347ebff7-0c89-4d2c-e2c5-5ad1d396aa6c"
      },
      "source": [
        "fruits = [\"apple\", \"banana\", \"cherry\", \"orange\"]\n",
        "print(fruits)"
      ],
      "execution_count": null,
      "outputs": [
        {
          "output_type": "stream",
          "text": [
            "['apple', 'banana', 'cherry', 'orange']\n"
          ],
          "name": "stdout"
        }
      ]
    },
    {
      "cell_type": "code",
      "metadata": {
        "id": "gxLG0c-ued2H",
        "colab_type": "code",
        "colab": {},
        "outputId": "77460b98-e399-43cb-a328-da11fc5e9d26"
      },
      "source": [
        "#You access the list items by referring to the index number:\n",
        "\n",
        "print(fruits[1])"
      ],
      "execution_count": null,
      "outputs": [
        {
          "output_type": "stream",
          "text": [
            "banana\n"
          ],
          "name": "stdout"
        }
      ]
    },
    {
      "cell_type": "code",
      "metadata": {
        "id": "q-fJYjvEed2T",
        "colab_type": "code",
        "colab": {},
        "outputId": "03b5f090-14bc-4500-b885-06b4c734944f"
      },
      "source": [
        "# To change the value of a specific item, refer to the index number:\n",
        "\n",
        "fruits = [\"apple\", \"banana\", \"cherry\", \"orange\"]\n",
        "print(fruits)\n",
        "\n",
        "fruits[2] = \"strawberry\"\n",
        "print(fruits)"
      ],
      "execution_count": null,
      "outputs": [
        {
          "output_type": "stream",
          "text": [
            "['apple', 'banana', 'cherry', 'orange']\n",
            "['apple', 'banana', 'strawberry', 'orange']\n"
          ],
          "name": "stdout"
        }
      ]
    },
    {
      "cell_type": "code",
      "metadata": {
        "id": "XWr2VXQzed2b",
        "colab_type": "code",
        "colab": {},
        "outputId": "ae5cbd5a-96c8-4a92-ec34-fa933b626955"
      },
      "source": [
        "# Print all items in the list, one by one:\n",
        "\n",
        "fruits = [\"apple\", \"banana\", \"cherry\", \"orange\"]\n",
        "for x in fruits:\n",
        "  print(x)"
      ],
      "execution_count": null,
      "outputs": [
        {
          "output_type": "stream",
          "text": [
            "apple\n",
            "banana\n",
            "cherry\n",
            "orange\n"
          ],
          "name": "stdout"
        }
      ]
    },
    {
      "cell_type": "code",
      "metadata": {
        "id": "Z_985156ed2m",
        "colab_type": "code",
        "colab": {},
        "outputId": "635d3c2c-f9d1-4986-977f-268c73a42bf7"
      },
      "source": [
        "fruits = [\"apple\", \"banana\", \"cherry\", \"orange\"]\n",
        "if \"mango\" in fruits:\n",
        "  print(\"Yes, 'mango' is in the fruits list\")\n",
        "else:\n",
        "  print(\"Fruit is not in the list\")"
      ],
      "execution_count": null,
      "outputs": [
        {
          "output_type": "stream",
          "text": [
            "Fruit is not in the list\n"
          ],
          "name": "stdout"
        }
      ]
    },
    {
      "cell_type": "code",
      "metadata": {
        "id": "J1RY9OBZed2t",
        "colab_type": "code",
        "colab": {},
        "outputId": "024a58de-1e39-4b92-b247-842e3da2002b"
      },
      "source": [
        "# Print the number of items in the list:\n",
        "\n",
        "print(len(fruits))"
      ],
      "execution_count": null,
      "outputs": [
        {
          "output_type": "stream",
          "text": [
            "4\n"
          ],
          "name": "stdout"
        }
      ]
    },
    {
      "cell_type": "code",
      "metadata": {
        "id": "Ul3HYtoFed22",
        "colab_type": "code",
        "colab": {},
        "outputId": "054f27af-2109-4f7e-8d3d-b88d272af9ab"
      },
      "source": [
        "# To add an item to the end of the list, use the append() method:\n",
        "\n",
        "fruits.append(\"mango\")\n",
        "print(fruits)"
      ],
      "execution_count": null,
      "outputs": [
        {
          "output_type": "stream",
          "text": [
            "['apple', 'banana', 'cherry', 'orange', 'mango']\n"
          ],
          "name": "stdout"
        }
      ]
    },
    {
      "cell_type": "code",
      "metadata": {
        "id": "Il1V4ULDed3B",
        "colab_type": "code",
        "colab": {},
        "outputId": "deb720fc-15b4-413b-e8f7-1b59c4c27369"
      },
      "source": [
        "# To add an item at the specified index, use the insert() method:\n",
        "\n",
        "fruits.insert(1, \"grapes\")\n",
        "print(fruits)"
      ],
      "execution_count": null,
      "outputs": [
        {
          "output_type": "stream",
          "text": [
            "['apple', 'grapes', 'banana', 'cherry', 'orange', 'mango']\n"
          ],
          "name": "stdout"
        }
      ]
    },
    {
      "cell_type": "code",
      "metadata": {
        "id": "jKJ8J9ZIed3N",
        "colab_type": "code",
        "colab": {},
        "outputId": "1c9813ce-b428-400e-fe83-7e3b05f9dcd8"
      },
      "source": [
        "# The remove() method removes the specified item:\n",
        "\n",
        "fruits.remove(\"banana\")\n",
        "print(fruits)"
      ],
      "execution_count": null,
      "outputs": [
        {
          "output_type": "stream",
          "text": [
            "['apple', 'grapes', 'cherry', 'orange', 'mango']\n"
          ],
          "name": "stdout"
        }
      ]
    },
    {
      "cell_type": "code",
      "metadata": {
        "id": "QD16ZRHded3X",
        "colab_type": "code",
        "colab": {},
        "outputId": "9b3fbe36-fc9e-466d-9e80-51232c6d6eef"
      },
      "source": [
        "# The pop() method removes the specified index, (or the last item if index is not specified):\n",
        "\n",
        "fruits.pop()\n",
        "print(fruits)"
      ],
      "execution_count": null,
      "outputs": [
        {
          "output_type": "stream",
          "text": [
            "['apple', 'grapes', 'cherry', 'orange']\n"
          ],
          "name": "stdout"
        }
      ]
    },
    {
      "cell_type": "markdown",
      "metadata": {
        "id": "21Ud3Pwned3j",
        "colab_type": "raw"
      },
      "source": [
        "The del keyword removes the specified index:\n",
        "    del fruits[0]\n",
        "    \n",
        "    \n",
        "The del keyword can also delete the list completely:\n",
        "    del fruits\n",
        "\n",
        "The clear() method empties the list:\n",
        "    fruits.clear()"
      ]
    },
    {
      "cell_type": "markdown",
      "metadata": {
        "id": "vAmjhvN5ed3p",
        "colab_type": "raw"
      },
      "source": [
        "You cannot copy a list simply by typing list2 = list1, because: list2 will only be a reference to list1, and changes made in list1 will automatically also be made in list2.\n",
        "\n",
        "There are ways to make a copy, one way is to use the built-in List method copy().\n",
        "\n",
        "mylist = fruits.copy()"
      ]
    },
    {
      "cell_type": "markdown",
      "metadata": {
        "id": "REMDeuPmed3r",
        "colab_type": "text"
      },
      "source": [
        "# Built in Methods of List"
      ]
    },
    {
      "cell_type": "markdown",
      "metadata": {
        "id": "05-d4nR-ed3t",
        "colab_type": "raw"
      },
      "source": [
        "append()\tAdds an element at the end of the list\n",
        "\n",
        "clear()\tRemoves all the elements from the list\n",
        "\n",
        "copy()\tReturns a copy of the list\n",
        "\n",
        "count()\tReturns the number of elements with the specified value\n",
        "\n",
        "extend()\tAdd the elements of a list (or any iterable), to the end of the current list\n",
        "\n",
        "index()\tReturns the index of the first element with the specified value\n",
        "\n",
        "insert()\tAdds an element at the specified position\n",
        "\n",
        "pop()\tRemoves the element at the specified position\n",
        "\n",
        "remove()\tRemoves the item with the specified value\n",
        "\n",
        "reverse()\tReverses the order of the list\n",
        "\n",
        "sort()\tSorts the list"
      ]
    },
    {
      "cell_type": "markdown",
      "metadata": {
        "id": "xN3aMgDOed3v",
        "colab_type": "text"
      },
      "source": [
        "* **TUPLE**"
      ]
    },
    {
      "cell_type": "markdown",
      "metadata": {
        "id": "Qg9vcdfKed3z",
        "colab_type": "text"
      },
      "source": [
        "**Tuple is a collection which is ordered and unchangeable. Allows duplicate members.**\n",
        "\n",
        "**In Python tuples are written within round brackets.**"
      ]
    },
    {
      "cell_type": "code",
      "metadata": {
        "id": "utz_TRdaed31",
        "colab_type": "code",
        "colab": {},
        "outputId": "24f31e3b-ba27-4542-e947-b99d66f31a92"
      },
      "source": [
        "fruits = (\"apple\", \"banana\", \"cherry\", \"orange\")\n",
        "print(fruits)"
      ],
      "execution_count": null,
      "outputs": [
        {
          "output_type": "stream",
          "text": [
            "('apple', 'banana', 'cherry', 'orange')\n"
          ],
          "name": "stdout"
        }
      ]
    },
    {
      "cell_type": "code",
      "metadata": {
        "id": "wShkIQZJed4B",
        "colab_type": "code",
        "colab": {},
        "outputId": "815ec1b0-0101-4973-b404-5ae8271ea921"
      },
      "source": [
        "# You can access tuple items by referring to the index number, inside square brackets:\n",
        "\n",
        "print(fruits[1])"
      ],
      "execution_count": null,
      "outputs": [
        {
          "output_type": "stream",
          "text": [
            "banana\n"
          ],
          "name": "stdout"
        }
      ]
    },
    {
      "cell_type": "code",
      "metadata": {
        "id": "aGBTY1gned4T",
        "colab_type": "code",
        "colab": {},
        "outputId": "b43c1d70-a3ce-4ef8-b2a4-393576e14e0b"
      },
      "source": [
        "# Once a tuple is created, you cannot change its values. Tuples are unchangeable.\n",
        "\n",
        "fruits = (\"apple\", \"banana\", \"cherry\", \"orange\")\n",
        "fruits[1] = \"mango\"\n",
        "# The values will remain the same:\n",
        "print(fruits)"
      ],
      "execution_count": null,
      "outputs": [
        {
          "output_type": "error",
          "ename": "TypeError",
          "evalue": "'tuple' object does not support item assignment",
          "traceback": [
            "\u001b[1;31m---------------------------------------------------------------------------\u001b[0m",
            "\u001b[1;31mTypeError\u001b[0m                                 Traceback (most recent call last)",
            "\u001b[1;32m<ipython-input-42-813096c9e4b5>\u001b[0m in \u001b[0;36m<module>\u001b[1;34m\u001b[0m\n\u001b[0;32m      2\u001b[0m \u001b[1;33m\u001b[0m\u001b[0m\n\u001b[0;32m      3\u001b[0m \u001b[0mfruits\u001b[0m \u001b[1;33m=\u001b[0m \u001b[1;33m(\u001b[0m\u001b[1;34m\"apple\"\u001b[0m\u001b[1;33m,\u001b[0m \u001b[1;34m\"banana\"\u001b[0m\u001b[1;33m,\u001b[0m \u001b[1;34m\"cherry\"\u001b[0m\u001b[1;33m,\u001b[0m \u001b[1;34m\"orange\"\u001b[0m\u001b[1;33m)\u001b[0m\u001b[1;33m\u001b[0m\u001b[1;33m\u001b[0m\u001b[0m\n\u001b[1;32m----> 4\u001b[1;33m \u001b[0mfruits\u001b[0m\u001b[1;33m[\u001b[0m\u001b[1;36m1\u001b[0m\u001b[1;33m]\u001b[0m \u001b[1;33m=\u001b[0m \u001b[1;34m\"mango\"\u001b[0m\u001b[1;33m\u001b[0m\u001b[1;33m\u001b[0m\u001b[0m\n\u001b[0m\u001b[0;32m      5\u001b[0m \u001b[1;31m# The values will remain the same:\u001b[0m\u001b[1;33m\u001b[0m\u001b[1;33m\u001b[0m\u001b[1;33m\u001b[0m\u001b[0m\n\u001b[0;32m      6\u001b[0m \u001b[0mprint\u001b[0m\u001b[1;33m(\u001b[0m\u001b[0mfruits\u001b[0m\u001b[1;33m)\u001b[0m\u001b[1;33m\u001b[0m\u001b[1;33m\u001b[0m\u001b[0m\n",
            "\u001b[1;31mTypeError\u001b[0m: 'tuple' object does not support item assignment"
          ]
        }
      ]
    },
    {
      "cell_type": "code",
      "metadata": {
        "id": "4a3R7JULed4g",
        "colab_type": "code",
        "colab": {},
        "outputId": "530e7cef-49a5-4574-e872-5710712b5c50"
      },
      "source": [
        "# You can loop through the tuple items by using a for loop.\n",
        "\n",
        "for x in fruits:\n",
        "  print(x)"
      ],
      "execution_count": null,
      "outputs": [
        {
          "output_type": "stream",
          "text": [
            "apple\n",
            "banana\n",
            "cherry\n",
            "orange\n"
          ],
          "name": "stdout"
        }
      ]
    },
    {
      "cell_type": "code",
      "metadata": {
        "id": "gXBPWNNned44",
        "colab_type": "code",
        "colab": {},
        "outputId": "5487bb8a-4ac1-4968-a59a-421ac7522499"
      },
      "source": [
        "fruits = (\"apple\", \"banana\", \"cherry\", \"orange\")\n",
        "if \"mango\" in fruits:\n",
        "  print(\"Yes, 'mango' is in the fruits list\")\n",
        "else:\n",
        "  print(\"Fruit is not in the list\")"
      ],
      "execution_count": null,
      "outputs": [
        {
          "output_type": "stream",
          "text": [
            "Fruit is not in the list\n"
          ],
          "name": "stdout"
        }
      ]
    },
    {
      "cell_type": "code",
      "metadata": {
        "id": "-LXN-5ywed5H",
        "colab_type": "code",
        "colab": {},
        "outputId": "afa0c038-7358-4b16-93e8-67cb68acea77"
      },
      "source": [
        "# To determine how many items a tuple has, use the len() method:\n",
        "\n",
        "print(len(fruits))"
      ],
      "execution_count": null,
      "outputs": [
        {
          "output_type": "stream",
          "text": [
            "4\n"
          ],
          "name": "stdout"
        }
      ]
    },
    {
      "cell_type": "code",
      "metadata": {
        "id": "VRpOxro3ed5T",
        "colab_type": "code",
        "colab": {}
      },
      "source": [
        "# Tuples are unchangeable, so you cannot remove items from it, but you can delete the tuple completely:\n"
      ],
      "execution_count": null,
      "outputs": []
    },
    {
      "cell_type": "markdown",
      "metadata": {
        "id": "c4WIUKnded5d",
        "colab_type": "raw"
      },
      "source": [
        "Methods in tuple\n",
        "\n",
        "count()\tReturns the number of times a specified value occurs in a tuple\n",
        "index()\tSearches the tuple for a specified value and returns the position of where it was found"
      ]
    },
    {
      "cell_type": "markdown",
      "metadata": {
        "id": "1NPotX1ced5f",
        "colab_type": "text"
      },
      "source": [
        "* **SETS**"
      ]
    },
    {
      "cell_type": "markdown",
      "metadata": {
        "id": "6vh4yIqXed5k",
        "colab_type": "text"
      },
      "source": [
        "**Set is a collection which is unordered and unindexed. No duplicate members.**\n",
        "\n",
        "**In Python sets are written within curly brackets.**"
      ]
    },
    {
      "cell_type": "code",
      "metadata": {
        "id": "iPJJw4B7ed5s",
        "colab_type": "code",
        "colab": {},
        "outputId": "13168996-6862-4c67-ab65-eebe8d87b626"
      },
      "source": [
        "fruits = {\"apple\", \"banana\", \"cherry\"}\n",
        "print(fruits)"
      ],
      "execution_count": null,
      "outputs": [
        {
          "output_type": "stream",
          "text": [
            "{'apple', 'cherry', 'banana'}\n"
          ],
          "name": "stdout"
        }
      ]
    },
    {
      "cell_type": "markdown",
      "metadata": {
        "id": "B8vTs0wSed56",
        "colab_type": "raw"
      },
      "source": [
        "You cannot access items in a set by referring to an index, since sets are unordered the items has no index.\n",
        "\n"
      ]
    },
    {
      "cell_type": "code",
      "metadata": {
        "id": "uHjekbtGed59",
        "colab_type": "code",
        "colab": {},
        "outputId": "46266f78-41de-41dc-8b4e-0a60896a4142"
      },
      "source": [
        "\"\"\"But you can loop through the set items using a for loop, or ask if a specified value is present in a set, \n",
        "by using the in keyword.\"\"\"\n",
        "\n",
        "for x in fruits:\n",
        "  print(x)"
      ],
      "execution_count": null,
      "outputs": [
        {
          "output_type": "stream",
          "text": [
            "apple\n",
            "cherry\n",
            "banana\n"
          ],
          "name": "stdout"
        }
      ]
    },
    {
      "cell_type": "code",
      "metadata": {
        "id": "d2BVQtT1ed6H",
        "colab_type": "code",
        "colab": {},
        "outputId": "72663f47-d69e-46af-8889-0035ea2891b7"
      },
      "source": [
        "print(\"banana\" in fruits)"
      ],
      "execution_count": null,
      "outputs": [
        {
          "output_type": "stream",
          "text": [
            "True\n"
          ],
          "name": "stdout"
        }
      ]
    },
    {
      "cell_type": "code",
      "metadata": {
        "id": "sdgGsEHFed6X",
        "colab_type": "code",
        "colab": {},
        "outputId": "279453f9-3210-49c6-84e3-77fa8462585d"
      },
      "source": [
        "#To add one item to a set use the add() method.\n",
        "\n",
        "#To add more than one item to a set use the update() method.\n",
        "\n",
        "fruits.add(\"orange\")\n",
        "\n",
        "print(fruits)"
      ],
      "execution_count": null,
      "outputs": [
        {
          "output_type": "stream",
          "text": [
            "{'apple', 'cherry', 'banana', 'orange'}\n"
          ],
          "name": "stdout"
        }
      ]
    },
    {
      "cell_type": "code",
      "metadata": {
        "id": "dN6WdRS-ed6o",
        "colab_type": "code",
        "colab": {},
        "outputId": "a4029d90-a924-49f1-af94-c78a72b86c7c"
      },
      "source": [
        "fruits.update([\"orange\", \"mango\", \"grapes\"])\n",
        "\n",
        "print(fruits)"
      ],
      "execution_count": null,
      "outputs": [
        {
          "output_type": "stream",
          "text": [
            "{'cherry', 'grapes', 'orange', 'banana', 'apple', 'mango'}\n"
          ],
          "name": "stdout"
        }
      ]
    },
    {
      "cell_type": "code",
      "metadata": {
        "id": "q2q2zDw-ed68",
        "colab_type": "code",
        "colab": {},
        "outputId": "060508ae-c378-4eef-d71a-b9102390f984"
      },
      "source": [
        "#To determine how many items a set has, use the len() method.\n",
        "\n",
        "print(len(fruits))"
      ],
      "execution_count": null,
      "outputs": [
        {
          "output_type": "stream",
          "text": [
            "6\n"
          ],
          "name": "stdout"
        }
      ]
    },
    {
      "cell_type": "markdown",
      "metadata": {
        "id": "W1uR-UjFed7L",
        "colab_type": "text"
      },
      "source": [
        "# Methods in Sets"
      ]
    },
    {
      "cell_type": "markdown",
      "metadata": {
        "id": "O84f27bied7N",
        "colab_type": "raw"
      },
      "source": [
        "add()\tAdds an element to the set\n",
        "\n",
        "clear()\tRemoves all the elements from the set\n",
        "\n",
        "copy()\tReturns a copy of the set\n",
        "\n",
        "difference()\tReturns a set containing the difference between two or more sets\n",
        "\n",
        "difference_update()\tRemoves the items in this set that are also included in another, specified set\n",
        "\n",
        "discard()\tRemove the specified item\n",
        "\n",
        "intersection()\tReturns a set, that is the intersection of two other sets\n",
        "\n",
        "intersection_update()\tRemoves the items in this set that are not present in other, specified set(s)\n",
        "\n",
        "isdisjoint()\tReturns whether two sets have a intersection or not\n",
        "\n",
        "issubset()\tReturns whether another set contains this set or not\n",
        "\n",
        "issuperset()\tReturns whether this set contains another set or not\n",
        "\n",
        "pop()\tRemoves an element from the set\n",
        "\n",
        "remove()\tRemoves the specified element\n",
        "\n",
        "symmetric_difference()\tReturns a set with the symmetric differences of two sets\n",
        "\n",
        "symmetric_difference_update()\tinserts the symmetric differences from this set and another\n",
        "\n",
        "union()\tReturn a set containing the union of sets\n",
        "\n",
        "update()\tUpdate the set with the union of this set and others"
      ]
    },
    {
      "cell_type": "markdown",
      "metadata": {
        "id": "1_bF3Vvoed7b",
        "colab_type": "text"
      },
      "source": [
        "* **DICTIONARIES**"
      ]
    },
    {
      "cell_type": "markdown",
      "metadata": {
        "id": "olpeoYxced7e",
        "colab_type": "text"
      },
      "source": [
        "**Dictionary is a collection which is unordered, changeable and indexed. No duplicate members.**\n",
        "\n",
        "**In Python dictionaries are written with curly brackets, and they have keys and values.**"
      ]
    },
    {
      "cell_type": "code",
      "metadata": {
        "id": "0xapWjM-ed7g",
        "colab_type": "code",
        "colab": {},
        "outputId": "47cf66e3-2b92-4f5f-99fb-dde32f8f0d5f"
      },
      "source": [
        "car =\t{\n",
        "  \"brand\": \"Ford\",\n",
        "  \"model\": \"Mustang\",\n",
        "  \"year\" : 1964\n",
        "}\n",
        "\n",
        "print(car)"
      ],
      "execution_count": null,
      "outputs": [
        {
          "output_type": "stream",
          "text": [
            "{'brand': 'Ford', 'model': 'Mustang', 'year': 1964}\n"
          ],
          "name": "stdout"
        }
      ]
    },
    {
      "cell_type": "code",
      "metadata": {
        "id": "cImtZD-Hed7u",
        "colab_type": "code",
        "colab": {}
      },
      "source": [
        "#You can access the items of a dictionary by referring to its key name, inside square brackets:\n",
        "\n",
        "x = car[\"model\"]"
      ],
      "execution_count": null,
      "outputs": []
    },
    {
      "cell_type": "code",
      "metadata": {
        "id": "uOvnEim0ed72",
        "colab_type": "code",
        "colab": {},
        "outputId": "be610f37-77c9-4054-d711-d344cb8f4b47"
      },
      "source": [
        "print(x)"
      ],
      "execution_count": null,
      "outputs": [
        {
          "output_type": "stream",
          "text": [
            "Mustang\n"
          ],
          "name": "stdout"
        }
      ]
    },
    {
      "cell_type": "code",
      "metadata": {
        "id": "Ws7vSaGqed7-",
        "colab_type": "code",
        "colab": {}
      },
      "source": [
        "# You can change the value of a specific item by referring to its key name:\n",
        "\n",
        "car[\"year\"] = 2008"
      ],
      "execution_count": null,
      "outputs": []
    },
    {
      "cell_type": "code",
      "metadata": {
        "id": "IYNbTYIXed8M",
        "colab_type": "code",
        "colab": {},
        "outputId": "285744b1-7dad-4692-f588-d74fdf232bc6"
      },
      "source": [
        "print(car)"
      ],
      "execution_count": null,
      "outputs": [
        {
          "output_type": "stream",
          "text": [
            "{'brand': 'Ford', 'model': 'Mustang', 'year': 2008}\n"
          ],
          "name": "stdout"
        }
      ]
    },
    {
      "cell_type": "code",
      "metadata": {
        "id": "wn8II7z0ed8X",
        "colab_type": "code",
        "colab": {},
        "outputId": "9bf65fdf-814b-4d1f-f917-3ee953005709"
      },
      "source": [
        "# You can loop through a dictionary by using a for loop.\n",
        "\n",
        "# When looping through a dictionary, the return value are the keys of the dictionary,\n",
        "# but there are methods to return the values as well.\n",
        "\n",
        "for x in car:\n",
        "  print(x)\n"
      ],
      "execution_count": null,
      "outputs": [
        {
          "output_type": "stream",
          "text": [
            "brand\n",
            "model\n",
            "year\n"
          ],
          "name": "stdout"
        }
      ]
    },
    {
      "cell_type": "code",
      "metadata": {
        "id": "1DsYLxlfed8i",
        "colab_type": "code",
        "colab": {},
        "outputId": "1d989b29-f90a-49df-e9ec-61c716ec338c"
      },
      "source": [
        "for x in car:\n",
        "  print(car[x])"
      ],
      "execution_count": null,
      "outputs": [
        {
          "output_type": "stream",
          "text": [
            "Ford\n",
            "Mustang\n",
            "2008\n"
          ],
          "name": "stdout"
        }
      ]
    },
    {
      "cell_type": "code",
      "metadata": {
        "id": "AGFFuCCJed8w",
        "colab_type": "code",
        "colab": {},
        "outputId": "bdbc13dd-7904-43e4-ab7d-70699492379c"
      },
      "source": [
        "# You can also use the values() function to return values of a dictionary:\n",
        "\n",
        "for x in car.values():\n",
        "  print(x)"
      ],
      "execution_count": null,
      "outputs": [
        {
          "output_type": "stream",
          "text": [
            "Ford\n",
            "Mustang\n",
            "2008\n"
          ],
          "name": "stdout"
        }
      ]
    },
    {
      "cell_type": "code",
      "metadata": {
        "id": "XYZTChABed88",
        "colab_type": "code",
        "colab": {},
        "outputId": "f48a8e39-6c54-420d-fe78-b1e33a0baca1"
      },
      "source": [
        "# Loop through both keys and values, by using the items() function:\n",
        "\n",
        "for x, y in car.items():\n",
        "  print(x, y)"
      ],
      "execution_count": null,
      "outputs": [
        {
          "output_type": "stream",
          "text": [
            "brand Ford\n",
            "model Mustang\n",
            "year 2008\n"
          ],
          "name": "stdout"
        }
      ]
    },
    {
      "cell_type": "code",
      "metadata": {
        "id": "ko9W5bmKed9H",
        "colab_type": "code",
        "colab": {},
        "outputId": "1dc06c65-ffab-49eb-a5a6-bd311a2c5e7b"
      },
      "source": [
        "# To determine how many items (key-value pairs) a dictionary has, use the len() method.\n",
        "\n",
        "print(len(car))\n"
      ],
      "execution_count": null,
      "outputs": [
        {
          "output_type": "stream",
          "text": [
            "3\n"
          ],
          "name": "stdout"
        }
      ]
    },
    {
      "cell_type": "code",
      "metadata": {
        "id": "bovn-yRxed9P",
        "colab_type": "code",
        "colab": {},
        "outputId": "4ed9550b-339e-4bec-accc-470963d56090"
      },
      "source": [
        "# Adding an item to the dictionary is done by using a new index key and assigning a value to it:\n",
        "\n",
        "car[\"color\"] = \"red\"\n",
        "print(car)"
      ],
      "execution_count": null,
      "outputs": [
        {
          "output_type": "stream",
          "text": [
            "{'brand': 'Ford', 'model': 'Mustang', 'year': 2008, 'color': 'red'}\n"
          ],
          "name": "stdout"
        }
      ]
    },
    {
      "cell_type": "markdown",
      "metadata": {
        "id": "5lo_598Wed9X",
        "colab_type": "text"
      },
      "source": [
        "# Methods in Dictionaries"
      ]
    },
    {
      "cell_type": "markdown",
      "metadata": {
        "id": "TfQkLp4Ked9Y",
        "colab_type": "raw"
      },
      "source": [
        "clear()\tRemoves all the elements from the dictionary\n",
        "\n",
        "copy()\tReturns a copy of the dictionary\n",
        "\n",
        "fromkeys()\tReturns a dictionary with the specified keys and values\n",
        "\n",
        "get()\tReturns the value of the specified key\n",
        "\n",
        "items()\tReturns a list containing the a tuple for each key value pair\n",
        "\n",
        "keys()\tReturns a list containing the dictionary's keys\n",
        "\n",
        "pop()\tRemoves the element with the specified key\n",
        "\n",
        "popitem()\tRemoves the last inserted key-value pair\n",
        "\n",
        "setdefault()\tReturns the value of the specified key. If the key does not exist: insert the key, with the specified value\n",
        "\n",
        "update()\tUpdates the dictionary with the specified key-value pairs\n",
        "\n",
        "values()\tReturns a list of all the values in the dictionary"
      ]
    },
    {
      "cell_type": "code",
      "metadata": {
        "id": "HvnDdwmced9Z",
        "colab_type": "code",
        "colab": {}
      },
      "source": [
        ""
      ],
      "execution_count": null,
      "outputs": []
    }
  ]
}
